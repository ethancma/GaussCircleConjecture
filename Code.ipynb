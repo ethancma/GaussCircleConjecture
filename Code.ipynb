{
  "cells": [
    {
      "cell_type": "markdown",
      "metadata": {
        "id": "view-in-github",
        "colab_type": "text"
      },
      "source": [
        "<a href=\"https://colab.research.google.com/github/ethancma/GaussCircleConjecture/blob/main/Code.ipynb\" target=\"_parent\"><img src=\"https://colab.research.google.com/assets/colab-badge.svg\" alt=\"Open In Colab\"/></a>"
      ]
    },
    {
      "cell_type": "markdown",
      "metadata": {
        "id": "zH6g8tkTZtk8"
      },
      "source": [
        " # Exploration 1 - Gauss's Circle Conjecture"
      ]
    },
    {
      "cell_type": "markdown",
      "source": [
        "The problem at hand was how to determine the number of integer lattice points that exist in a circle centered about the origin with some radius r. Throughout this notebook, we will explore a series of techniques through python to quickly find this number as well as expand our techniques to other shapes such as ellipses and spheres."
      ],
      "metadata": {
        "id": "aiQW1Fg-3Dxj"
      }
    },
    {
      "cell_type": "code",
      "execution_count": 22,
      "metadata": {
        "id": "u56wWWmtg-di"
      },
      "outputs": [],
      "source": [
        "import math\n",
        "import numpy as np\n",
        "from numpy.polynomial import polynomial as P\n",
        "import matplotlib.pyplot as plt"
      ]
    },
    {
      "cell_type": "markdown",
      "metadata": {
        "id": "ReEnZcTShFGL"
      },
      "source": [
        "We begin with a no optimizations brute force approach that simply parses each $x$ value in the set $\\{0, 1,...,r\\}$, and each $y$ value in the set $\\{1, ..., r\\}$, and checks if $x^2+y^2 < r^2$ and if so adds it as a lattice point. However this only counts the lattice points in one quadrant of the circle, so we multiply the final count by 4, and finally we add 1 for the point $(0, 0)$ which is skipped."
      ]
    },
    {
      "cell_type": "code",
      "execution_count": null,
      "metadata": {
        "id": "EronezGAigbg"
      },
      "outputs": [],
      "source": [
        "def bruteforce_L(r: int) -> int:\n",
        "    \"\"\"Brute force technique to determine the number of lattice points.\n",
        "    \n",
        "    :param r: radius of the circle\n",
        "    :return: number of lattice points of circle with radius r\n",
        "    \"\"\"\n",
        "    lattice_points = 0\n",
        "    for i in range(r + 1):\n",
        "        for j in range(1, r + 1):\n",
        "            if i**2 + j**2 <= r**2:\n",
        "                lattice_points += 1\n",
        "    return 4 * lattice_points + 1\n"
      ]
    },
    {
      "cell_type": "markdown",
      "metadata": {
        "id": "aANIaALzNovs"
      },
      "source": [
        "This function is to slow for large values, so we created a faster version. This version only loops through each $x$ in the set $\\{1, 2,...,r\\}$ and adds up the number of lattice points $(x, y)$ for which $y >= 0$ and $x^2 + y^2 <= r^2$, which turns out to equal $\\lfloor\\sqrt{r^2 - x^2}\\rfloor + 1$. We add up all of these lattice points and then multiply the total by 4, and add one, for the same reason as above.\n",
        "We also created an area and error function. "
      ]
    },
    {
      "cell_type": "code",
      "execution_count": null,
      "metadata": {
        "id": "LcnkZiZLann3"
      },
      "outputs": [],
      "source": [
        "def A(r: int) -> float:\n",
        "    \"\"\"Calculates the area of the circle.\"\"\"\n",
        "    return r**2 * math.pi\n",
        "\n",
        "\n",
        "def L(r: int) -> int:\n",
        "    \"\"\"Fast version of calculating the number of lattice points.\"\"\"\n",
        "    i = 1\n",
        "    ans = 0\n",
        "    while i <= r:\n",
        "        ans += math.floor(math.sqrt(r**2 - i**2)) + 1\n",
        "        i += 1\n",
        "    return 1 + ans * 4\n",
        "\n",
        "\n",
        "def E(r: int) -> float:\n",
        "    \"\"\"Calculates the error between the area and lattice points.\"\"\"\n",
        "    return A(r) - L(r)\n"
      ]
    },
    {
      "cell_type": "markdown",
      "metadata": {
        "id": "Xn-NaOSOJ5SZ"
      },
      "source": [
        "To get a sense of how the error grows with R, we will perform a power regression on a list of values from the function E."
      ]
    },
    {
      "cell_type": "code",
      "execution_count": null,
      "metadata": {
        "id": "yTXtDL2UgWx_"
      },
      "outputs": [],
      "source": [
        "errors = [E(i) for i in range(1, 1000)]\n",
        "errors.insert(0, 0)"
      ]
    },
    {
      "cell_type": "code",
      "execution_count": null,
      "metadata": {
        "colab": {
          "base_uri": "https://localhost:8080/"
        },
        "id": "dgbwWxPRJ5SZ",
        "outputId": "36ddc0ac-902e-4b27-c40d-d3ae5f6e12bf"
      },
      "outputs": [
        {
          "output_type": "stream",
          "name": "stdout",
          "text": [
            "Creating list of errors, in log space so we can do a linear regression\n",
            "Finished\n"
          ]
        },
        {
          "output_type": "execute_result",
          "data": {
            "text/plain": [
              "array([0.63913903])"
            ]
          },
          "metadata": {},
          "execution_count": 5
        }
      ],
      "source": [
        "from sklearn.linear_model import LinearRegression\n",
        "\n",
        "\n",
        "x = []\n",
        "y = []\n",
        "print(\"Creating list of errors, in log space so we can do a linear regression\")\n",
        "for i in range(1, 1000):\n",
        "  error = errors[i]\n",
        "  if error > 0:\n",
        "    x.append([math.log(i)])\n",
        "    y.append(math.log(error))\n",
        "print(\"Finished\")\n",
        "reg = LinearRegression(fit_intercept = False).fit(x,y)\n",
        "reg.coef_"
      ]
    },
    {
      "cell_type": "markdown",
      "metadata": {
        "id": "z4_ChZEqJ5SZ"
      },
      "source": [
        "Plotting graphs so we can get a better look"
      ]
    },
    {
      "cell_type": "code",
      "execution_count": null,
      "metadata": {
        "colab": {
          "base_uri": "https://localhost:8080/",
          "height": 265
        },
        "id": "gnWqi1jPJ5Sa",
        "outputId": "cc7d5854-402f-4d7b-c80e-88f683c30036"
      },
      "outputs": [
        {
          "output_type": "display_data",
          "data": {
            "text/plain": [
              "<Figure size 432x288 with 1 Axes>"
            ],
            "image/png": "[encoded data removed]"
          },
          "metadata": {
            "needs_background": "light"
          }
        }
      ],
      "source": [
        "import matplotlib.pyplot as plt\n",
        "\n",
        "\n",
        "x = []\n",
        "error_y = []\n",
        "model = []\n",
        "\n",
        "for i in range(1000):\n",
        "    x.append(i)\n",
        "    error_y.append(errors[i])\n",
        "    model.append(i**(.63913903))\n",
        "\n",
        "fig, ax = plt.subplots()\n",
        "ax.plot(x, error_y)\n",
        "ax.plot(x, model)\n",
        "plt.show()"
      ]
    },
    {
      "cell_type": "markdown",
      "metadata": {
        "id": "XMUriNY8LrbQ"
      },
      "source": [
        "An obvious generalization of this problem that merits inspection is to see how this idea extends to shapes beyond circles. Furthermore, we will see how if this idea extends to volume as opposed to area. "
      ]
    },
    {
      "cell_type": "markdown",
      "metadata": {
        "id": "jDvT5sa4-gJW"
      },
      "source": [
        "### **Finding area and Lattice points of an ellipse**"
      ]
    },
    {
      "cell_type": "markdown",
      "source": [
        "**Area of an ellipse**"
      ],
      "metadata": {
        "id": "TtGSGvCCJy1v"
      }
    },
    {
      "cell_type": "markdown",
      "source": [
        "To find the area of an ellipse, this is done by the simple equation $\\pi \\cdot a \\cdot b$."
      ],
      "metadata": {
        "id": "mLhnV2uIJ4qp"
      }
    },
    {
      "cell_type": "code",
      "execution_count": 23,
      "metadata": {
        "id": "jGzLqhjK-psW"
      },
      "outputs": [],
      "source": [
        "def ellipse_A(a: int, b: int) -> float:\n",
        "  \"\"\"Returns the area of the ellipse.\"\"\"\n",
        "  return math.pi * a * b"
      ]
    },
    {
      "cell_type": "markdown",
      "metadata": {
        "id": "ABP8ihI--ueW"
      },
      "source": [
        "**Lattice points of an ellipse**"
      ]
    },
    {
      "cell_type": "markdown",
      "source": [
        "This method of finding the lattice points will, conceptually, draw a box around the ellipse and then check if each point is within the ellipse by checking if $\\frac{x^2}{a^2}+\\frac{y^2}{b^2} \\le 1$, where the code checks $\\forall (a, b) \\in \\mathbb{N}$."
      ],
      "metadata": {
        "id": "ZervprEuKHSo"
      }
    },
    {
      "cell_type": "code",
      "execution_count": 24,
      "metadata": {
        "id": "WY1rICpM-yQB"
      },
      "outputs": [],
      "source": [
        "def equation_satisfied(x, y, a, b):\n",
        "  \"\"\"Checks if the equation has been satisfied.\"\"\"\n",
        "  return (x**2) / (a**2) + (y**2) / (b**2) <= 1\n",
        "\n",
        "def ellipse_L(a: int, b: int) -> int:\n",
        "    \"\"\"Calculates the number of lattice points of this ellipse a, b.\n",
        "  \n",
        "    :param a: major axis of ellipse\n",
        "    :param b: minor axis of ellipse\n",
        "    :return: number of lattice points\n",
        "    \"\"\"\n",
        "    quad_one_points = 0\n",
        "    i = 1\n",
        "    while i < abs(a) + 1:\n",
        "        j = 1\n",
        "        while j < abs(b) + 1:\n",
        "          if equation_satisfied(i, j, a, b):\n",
        "            quad_one_points += 1\n",
        "          j += 1\n",
        "        i += 1\n",
        "    axis_points = (a + b) * 2 + 1\n",
        "    return quad_one_points * 4 + axis_points"
      ]
    },
    {
      "cell_type": "code",
      "source": [
        "a = 10\n",
        "b = 13\n",
        "print(\"--> The lattice points of an elipse with values (a,b) = ({},{}) is {}.\".format(a, b, ellipse_L(a, b)))"
      ],
      "metadata": {
        "id": "s8asYzpYKN5w",
        "outputId": "018db78c-8b08-4a75-9003-e3c9d0a396e6",
        "colab": {
          "base_uri": "https://localhost:8080/"
        }
      },
      "execution_count": 25,
      "outputs": [
        {
          "output_type": "stream",
          "name": "stdout",
          "text": [
            "--> The lattice points of an elipse with values (a,b) = (10,13) is 403.\n"
          ]
        }
      ]
    },
    {
      "cell_type": "markdown",
      "source": [
        "**Lattice points of ellipse (fast)**"
      ],
      "metadata": {
        "id": "pGu7ZJCEKY2T"
      }
    },
    {
      "cell_type": "markdown",
      "source": [
        "The following code can be slightly faster to the above code. However, this code relies on checking the height of the ellipse of each x $\\in$ [0, a-1] within the first coordinate. Depending on (a, b) values of the ellipse, this may or may not be significant. The following code floors the height of the ellipse on each integer x value within the first quadrant. It does this by checking $f(x)= ⌊\\frac{b}{a}\\sqrt(a^2-x^2)⌋$\n",
        "\n",
        "It's worth noting an attempt was bade to somehow use the formula to a fast circle, which is $N(r) = 1 + 4⌊r⌋ + 4 \\cdot \\Sigma_{i=1}^{⌊r⌋} ⌊\\sqrt(x^2-i^2)⌋$ $^{(1)}$, however since this equation is based off of Number Theory and the Sum of Squares $^{(2)}$, it wouldn't be feasible to modify this equation to fit ellipses without going very much indepth into Number Theory.\n",
        "\n",
        "$^{(1)}$ Source: https://mathworld.wolfram.com/GausssCircleProblem.html\n",
        "\n",
        "$^{(2)}$ Source: https://en.wikipedia.org/wiki/Sum_of_squares_function#:~:text=In%20number%20theory%2C%20the%20sum,counted%20as%20different%2C%20and%20is"
      ],
      "metadata": {
        "id": "QWLCSm2EKctY"
      }
    },
    {
      "cell_type": "code",
      "source": [
        "def ellipse_func(x, a, b):\n",
        "  return math.floor((b/a)*math.sqrt((a**2)-(x**2)))\n",
        "\n",
        "def fast_ellipse_L(a, b):\n",
        "  n = 1\n",
        "  sum = 0\n",
        "  while n < a:\n",
        "    sum += ellipse_func(n, a, b)\n",
        "    n+=1\n",
        "  return sum"
      ],
      "metadata": {
        "id": "VaLkR9H6KhOB"
      },
      "execution_count": 26,
      "outputs": []
    },
    {
      "cell_type": "code",
      "source": [
        "a = 10\n",
        "b = 13\n",
        "print(\"--> The lattice points of an elipse with values (a,b) = ({},{}) is {}.\".format(a, b, ellipse_L(a, b)))"
      ],
      "metadata": {
        "id": "TmFkFkwVKkLg",
        "outputId": "9ca3c925-b19f-4be9-84c1-4cb139db3601",
        "colab": {
          "base_uri": "https://localhost:8080/"
        }
      },
      "execution_count": 27,
      "outputs": [
        {
          "output_type": "stream",
          "name": "stdout",
          "text": [
            "--> The lattice points of an elipse with values (a,b) = (10,13) is 403.\n"
          ]
        }
      ]
    },
    {
      "cell_type": "markdown",
      "metadata": {
        "id": "mDvm3H2N_NNU"
      },
      "source": [
        "## Volume of a sphere"
      ]
    },
    {
      "cell_type": "code",
      "execution_count": null,
      "metadata": {
        "id": "TbDNH_i-Mg_J"
      },
      "outputs": [],
      "source": [
        "def volume_sphere(r: int) -> float:\n",
        "    \"\"\"Calculates the volume of the sphere.\n",
        "    \n",
        "    :param r: radius of sphere\n",
        "    :return: volume of sphere\n",
        "    \"\"\"\n",
        "    return (4 / 3) * math.pi * r**3\n",
        "\n",
        "\n",
        "def bf_lattice_sphere(r: int) -> int:\n",
        "    \"\"\"Brute force method to calculate lattice points of sphere.\n",
        "    \n",
        "    :param r: radius of sphere\n",
        "    :return: lattice points of sphere\n",
        "    \"\"\"\n",
        "    lattice_points = 0\n",
        "    for i in range(-r, r + 1):\n",
        "        for j in range(-r, r + 1):\n",
        "            for k in range(-r, r + 1):\n",
        "                if i**2 + j**2 + k**2 <= r**2:\n",
        "                    lattice_points += 1\n",
        "    return lattice_points\n",
        "\n",
        "\n",
        "def faster_bf_lattice_sphere(r: int) -> int:\n",
        "    \"\"\"More efficient brute force method to calculate lattice points.\n",
        "    \n",
        "    :param r: radius of sphere\n",
        "    :return: lattice points of sphere\n",
        "    \"\"\"\n",
        "    nonzero_lattice_points = 0\n",
        "    for i in range(1, r + 1):\n",
        "        for j in range(1, r + 1):\n",
        "            for k in range(1, r + 1):\n",
        "                if i**2 + j**2 + k**2 <= r**2:\n",
        "                    nonzero_lattice_points += 1\n",
        "  \n",
        "    # points sitting on 0 axis interior to sphere\n",
        "    nonzero_lattice_points *= 8\n",
        "    # points sitting on 1 or 2 axis interior to the sphere\n",
        "    axis_circles = 3 * (bruteforce_L(r) - 1)\n",
        "    # points sitting on 2 axis interior to sphere\n",
        "    overcounted_axis_lines = 6 * r\n",
        "    # points sitting on all 3 axis interior to sphere\n",
        "    origin = 1 \n",
        "    return nonzero_lattice_points + axis_circles - overcounted_axis_lines + origin"
      ]
    },
    {
      "cell_type": "markdown",
      "metadata": {
        "id": "JFL41u5WRu2F"
      },
      "source": [
        "We take a similar approach as before, but now we have 3 different dimensions to loop over. We only deal with strictly positive lattice points, and by symmetry uncounted lattice points can be found by switching the sign on points i,j,k. This gives us 2^3 = 8 different unique lattice points for given positive lattice point (i,j,k). We begin with a brute force approach as before."
      ]
    },
    {
      "cell_type": "markdown",
      "metadata": {
        "id": "V--Vc-RiVOj3"
      },
      "source": [
        "This method is quite slow, so we will try to create a more efficent version."
      ]
    },
    {
      "cell_type": "code",
      "execution_count": null,
      "metadata": {
        "id": "A3QBkUCAZVu6"
      },
      "outputs": [],
      "source": [
        "def lattice_sphere(r: int) -> int:\n",
        "    \"\"\"Fast method to calculate lattice points of sphere.\n",
        "    \n",
        "    :param r: radius of sphere\n",
        "    :return: lattice points of sphere\n",
        "    \"\"\"\n",
        "    nonzero_lattice_points = 0\n",
        "    for i in range(1, r + 1):\n",
        "        for j in range(1, math.floor(math.sqrt(r**2 - i**2)) + 1):\n",
        "            nonzero_lattice_points += math.floor(math.sqrt(r**2 - i**2 - j**2))\n",
        "\n",
        "    # points sitting on 0 axis interior to sphere\n",
        "    nonzero_lattice_points *= 8\n",
        "    # points sitting on 1 or 2 axis interior to the sphere\n",
        "    axis_circles = 3 * (L(r) - 1)\n",
        "    # points sitting on 2 axis interior to sphere\n",
        "    overcounted_axis_lines = 6 * r\n",
        "    # points sitting on all 3 axis interior to sphere\n",
        "    origin = 1\n",
        "    return nonzero_lattice_points + axis_circles - overcounted_axis_lines + origin"
      ]
    },
    {
      "cell_type": "markdown",
      "metadata": {
        "id": "QAoBYyzRZnwT"
      },
      "source": [
        "This implementation is much faster, cutting down on the upper bound on the 2nd loop and getting rid of the third loop completely. We will now populate an array with error values from radius 1 through 1000."
      ]
    },
    {
      "cell_type": "code",
      "execution_count": null,
      "metadata": {
        "id": "GXYvyEUpFNn4"
      },
      "outputs": [],
      "source": [
        "def sphere_error(r: int) -> float:\n",
        "    \"\"\"Calculates error between volume and lattice points of sphere.\n",
        "    \n",
        "    :param r: radius of sphere\n",
        "    :return: margin of error\n",
        "    \"\"\"\n",
        "    return volume_sphere(r)  - lattice_sphere(r)\n",
        "\n",
        "errors_sphere = [sphere_error(i) for i in range(1, 1000)]\n",
        "errors_sphere.insert(0, 0)"
      ]
    },
    {
      "cell_type": "code",
      "execution_count": null,
      "metadata": {
        "colab": {
          "base_uri": "https://localhost:8080/"
        },
        "id": "mcLvNoAhVXQf",
        "outputId": "c004e1da-91c7-4d97-aec0-72173c65fbb2"
      },
      "outputs": [
        {
          "output_type": "stream",
          "name": "stdout",
          "text": [
            "Creating list of errors, in log space so we can do a linear regression\n",
            "Finished\n"
          ]
        },
        {
          "output_type": "execute_result",
          "data": {
            "text/plain": [
              "array([1.32307423])"
            ]
          },
          "metadata": {},
          "execution_count": 17
        }
      ],
      "source": [
        "from sklearn.linear_model import LinearRegression\n",
        "\n",
        "\n",
        "x = []\n",
        "y = []\n",
        "print(\"Creating list of errors, in log space so we can do a linear regression\")\n",
        "for i in range(1, 1000):\n",
        "    error = errors_sphere[i]\n",
        "    if error > 0:\n",
        "        x.append([math.log(i)])\n",
        "        y.append(math.log(error))\n",
        "print(\"Finished\")\n",
        "\n",
        "reg = LinearRegression(fit_intercept=False).fit(x,y)\n",
        "reg.coef_\n"
      ]
    },
    {
      "cell_type": "markdown",
      "metadata": {
        "id": "M56lC58HJ57h"
      },
      "source": [
        "We have all the information that we need now to create a linear regression for the error term."
      ]
    },
    {
      "cell_type": "code",
      "execution_count": null,
      "metadata": {
        "colab": {
          "base_uri": "https://localhost:8080/",
          "height": 265
        },
        "id": "KBpy9wl4eI9e",
        "outputId": "cdb7a99f-086c-4c6d-f5af-d484700b7649"
      },
      "outputs": [
        {
          "output_type": "display_data",
          "data": {
            "text/plain": [
              "<Figure size 432x288 with 1 Axes>"
            ],
            "image/png": "[encoded data removed]"
          },
          "metadata": {
            "needs_background": "light"
          }
        }
      ],
      "source": [
        "import matplotlib.pyplot as plt\n",
        "\n",
        "\n",
        "x = []\n",
        "error_y = []\n",
        "model = []\n",
        "\n",
        "for i in range(1000):\n",
        "    x.append(i)\n",
        "    error_y.append(errors_sphere[i])\n",
        "    model.append(i**1.32307423)\n",
        "fig, ax = plt.subplots()\n",
        "ax.plot(x, error_y)\n",
        "ax.plot(x, model)\n",
        "plt.show()"
      ]
    },
    {
      "cell_type": "markdown",
      "metadata": {
        "id": "mYB_PL3KVfwc"
      },
      "source": [
        "As you can see in the graph above, and by noting that growth of the error term is proportional to r^(1.32), the error term is only getting larger as the radius increases. With the circle lattice error term, the error was growing at a slower rate, proportional to r^(2/3). This difference in the error terms growth rate is very interesting, and is most likely the result of how quickly volume accumulates versus area."
      ]
    },
    {
      "cell_type": "markdown",
      "metadata": {
        "id": "RcYk2OjnMFvN"
      },
      "source": [
        "An interesting result due to D.R. Heath-Brown (https://www.degruyter.com/document/doi/10.1515/9783110285581.883/html?lang=en) establishes a lower bound on the error rate as being proportional to r^(1.3125). This number is very close to the value we calculated above. To illustrate this, examine the graph of both error rates below."
      ]
    },
    {
      "cell_type": "code",
      "execution_count": null,
      "metadata": {
        "colab": {
          "base_uri": "https://localhost:8080/",
          "height": 265
        },
        "id": "CN0MyLylMgEL",
        "outputId": "c628e292-bbee-464f-fa4d-543805a10647"
      },
      "outputs": [
        {
          "output_type": "display_data",
          "data": {
            "text/plain": [
              "<Figure size 432x288 with 1 Axes>"
            ],
            "image/png": "[encoded data removed]"
          },
          "metadata": {
            "needs_background": "light"
          }
        }
      ],
      "source": [
        "import matplotlib.pyplot as plt\n",
        "\n",
        "\n",
        "x = []\n",
        "error_y = []\n",
        "model = []\n",
        "heath = []\n",
        "for i in range(1000):\n",
        "    x.append(i)\n",
        "    error_y.append(errors_sphere[i])\n",
        "    model.append( i**(1.32307))\n",
        "    heath.append(i**(1.3125))\n",
        "\n",
        "fig, ax = plt.subplots()\n",
        "ax.plot(x, error_y)\n",
        "ax.plot(x, model)\n",
        "ax.plot(x, heath)\n",
        "plt.show()"
      ]
    }
  ],
  "metadata": {
    "colab": {
      "provenance": [],
      "include_colab_link": true
    },
    "kernelspec": {
      "display_name": "Python 3",
      "language": "python",
      "name": "python3"
    },
    "language_info": {
      "codemirror_mode": {
        "name": "ipython",
        "version": 3
      },
      "file_extension": ".py",
      "mimetype": "text/x-python",
      "name": "python",
      "nbconvert_exporter": "python",
      "pygments_lexer": "ipython3",
      "version": "3.8.10"
    }
  },
  "nbformat": 4,
  "nbformat_minor": 0
}