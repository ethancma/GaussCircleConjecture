{
  "nbformat": 4,
  "nbformat_minor": 0,
  "metadata": {
    "colab": {
      "provenance": [],
      "authorship_tag": "ABX9TyMz9TppmeKWgSMan+Qlau4w",
      "include_colab_link": true
    },
    "kernelspec": {
      "name": "python3",
      "display_name": "Python 3"
    },
    "language_info": {
      "name": "python"
    }
  },
  "cells": [
    {
      "cell_type": "markdown",
      "metadata": {
        "id": "view-in-github",
        "colab_type": "text"
      },
      "source": [
        "<a href=\"https://colab.research.google.com/github/ethancma/GaussCircleConjecture/blob/main/Code.ipynb\" target=\"_parent\"><img src=\"https://colab.research.google.com/assets/colab-badge.svg\" alt=\"Open In Colab\"/></a>"
      ]
    },
    {
      "cell_type": "markdown",
      "source": [
        " Exploration 1 - Gauss's Circle Conjecture\n",
        " "
      ],
      "metadata": {
        "id": "zH6g8tkTZtk8"
      }
    },
    {
      "cell_type": "code",
      "source": [
        "import math\n",
        "\n",
        "def A(r):\n",
        "  return r**2*math.pi\n",
        "\n",
        "\n",
        "def L(r):\n",
        "  i = 1\n",
        "  ans = 0\n",
        "  while(i <= r):\n",
        "    ans += math.floor(math.sqrt(r**2 - i**2)) + 1\n",
        "    i += 1\n",
        "  return 1 + ans * 4\n",
        "\n",
        "\n",
        "def E(r):\n",
        "  return A(r) - L(r)\n"
      ],
      "metadata": {
        "id": "LcnkZiZLann3"
      },
      "execution_count": 2,
      "outputs": []
    }
  ]
}