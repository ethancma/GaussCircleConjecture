{
 "cells": [
  {
   "cell_type": "markdown",
   "metadata": {
    "id": "zH6g8tkTZtk8"
   },
   "source": [
    " Exploration 1 - Gauss's Circle Conjecture\n",
    " "
   ]
  },
<<<<<<< Updated upstream
  {
   "cell_type": "code",
   "execution_count": 6,
   "metadata": {
    "id": "u56wWWmtg-di"
   },
   "outputs": [],
   "source": [
    "import math\n",
    "import numpy as np\n",
    "from numpy.polynomial import polynomial as P\n",
    "import matplotlib.pyplot as plt"
   ]
  },
  {
   "cell_type": "markdown",
   "metadata": {
    "id": "ReEnZcTShFGL"
   },
   "source": [
    "We begin with a no optimizations brute force approach that simply parses each $x$ value in the set $\\{0, 1,...,r\\}$, and each $y$ value in the set $\\{1, ..., r\\}$, and checks if $x^2+y^2 < r^2$ and if so adds it as a lattice point. However this only counts the lattice points in one quadrant of the circle, so we multiply the final count by 4, and finally we add 1 for the point $(0, 0)$ which is skipped."
   ]
  },
  {
   "cell_type": "code",
   "execution_count": 7,
   "metadata": {
    "id": "EronezGAigbg"
   },
   "outputs": [],
   "source": [
    "def bf_L(r):\n",
    "    lattice_points = 0\n",
    "    for i in range(r+1):\n",
    "        for j in range(1,r+1):\n",
    "            if i**2 + j**2 < r**2:\n",
    "                lattice_points += 1\n",
    "    return 4*lattice_points + 1"
   ]
  },
  {
   "cell_type": "code",
   "execution_count": 8,
   "metadata": {
    "id": "LcnkZiZLann3"
   },
   "outputs": [],
   "source": [
    "import math\n",
    "\n",
    "def A(r):\n",
    "  return r**2*math.pi\n",
    "\n",
    "\n",
    "def L(r):\n",
    "  i = 1\n",
    "  ans = 0\n",
    "  while(i <= r):\n",
    "    ans += math.floor(math.sqrt(r**2 - i**2)) + 1\n",
    "    i += 1\n",
    "  return 1 + ans * 4\n",
    "\n",
    "\n",
    "def E(r):\n",
    "  return A(r) - L(r)\n"
   ]
  },
  {
   "cell_type": "markdown",
   "metadata": {},
   "source": [
    "To get a sense of how the error grows with R, we will perform a power regression on a list of values from the function E."
   ]
  },
  {
   "cell_type": "code",
   "execution_count": 9,
   "metadata": {},
   "outputs": [
    {
     "name": "stdout",
     "output_type": "stream",
     "text": [
      "Creating list of errors, in log space so we can do a linear regression\n",
      "Finished\n",
      "\n",
      "Result...\n",
      " [-0.01106326  0.63622724]\n",
      "\n",
      "Result...\n",
      " [array([650.90272367]), 2, array([1.41070946, 0.09949283]), 4.3876013933186186e-13]\n"
     ]
=======
  "cells": [
    {
      "cell_type": "markdown",
      "source": [
        " Exploration 1 - Gauss's Circle Conjecture\n",
        " "
      ],
      "metadata": {
        "id": "zH6g8tkTZtk8"
      }
    },
    {
      "cell_type": "code",
      "source": [
        "import math\n",
        "import numpy as np\n",
        "import numpy.polynomial as P\n",
        "import matplotlib.pyplot as plt"
      ],
      "metadata": {
        "id": "u56wWWmtg-di"
      },
      "execution_count": null,
      "outputs": []
    },
    {
      "cell_type": "code",
      "source": [
        "def A(r):\n",
        "    '''\n",
        "    A function that returns the area of a circle with radius r.\n",
        "    '''\n",
        "    return r**2*math.pi"
      ],
      "metadata": {
        "id": "UZzrRlEOmbtN"
      },
      "execution_count": 4,
      "outputs": []
    },
    {
      "cell_type": "code",
      "source": [
        "def test(n):\n",
        "    "
      ],
      "metadata": {
        "id": "wDUWk_EAmxjN"
      },
      "execution_count": null,
      "outputs": []
    },
    {
      "cell_type": "markdown",
      "source": [
        "We begin with a no optimizations brute force approach that simply parses each $x$ value in the set $\\{0, 1,...,r\\}$, and each $y$ value in the set $\\{1, ..., r\\}$, and checks if $x^2+y^2 < r^2$ and if so adds it as a lattice point. However this only counts the lattice points in one quadrant of the circle, so we multiply the final count by 4, and finally we add 1 for the point $(0, 0)$ which is skipped.\n",
        "\n",
        "This approach runs in $\\mathcal{O}(r^2)$ time."
      ],
      "metadata": {
        "id": "ReEnZcTShFGL"
      }
    },
    {
      "cell_type": "code",
      "source": [
        "def bf_L(r):\n",
        "    lattice_points = 0\n",
        "    for i in range(r+1):\n",
        "        for j in range(1,r+1):\n",
        "            if i**2 + j**2 < r**2:\n",
        "                lattice_points += 1\n",
        "    return 4*lattice_points + 1"
      ],
      "metadata": {
        "id": "EronezGAigbg"
      },
      "execution_count": null,
      "outputs": []
    },
    {
      "cell_type": "code",
      "source": [
        "import math\n",
        "\n",
        "def L(r):\n",
        "  i = 1\n",
        "  ans = 0\n",
        "  while(i <= r):\n",
        "    ans += math.floor(math.sqrt(r**2 - i**2)) + 1\n",
        "    i += 1\n",
        "  return 1 + ans * 4\n",
        "\n",
        "\n",
        "def E(r):\n",
        "  return A(r) - L(r)\n"
      ],
      "metadata": {
        "id": "LcnkZiZLann3"
      },
      "execution_count": null,
      "outputs": []
>>>>>>> Stashed changes
    }
   ],
   "source": [
    "x = []\n",
    "y = []\n",
    "\n",
    "log_conversion = 1/math.log(math.e)\n",
    "\n",
    "print(\"Creating list of errors, in log space so we can do a linear regression\")\n",
    "for i in range(1, 2000):\n",
    "  error = E(i)\n",
    "  if error > 0:\n",
    "    x.append(math.log(i)*log_conversion)\n",
    "    y.append(math.log(E(i))*log_conversion)\n",
    "print(\"Finished\")\n",
    "\n",
    "\n",
    "\n",
    "c, stats = P.polyfit(x,y,1,full=True)\n",
    "print(\"\\nResult...\\n\",c)\n",
    "print(\"\\nResult...\\n\",stats)"
   ]
  }
 ],
 "metadata": {
  "colab": {
   "provenance": []
  },
  "kernelspec": {
   "display_name": "Python 3",
   "language": "python",
   "name": "python3"
  },
  "language_info": {
   "codemirror_mode": {
    "name": "ipython",
    "version": 3
   },
   "file_extension": ".py",
   "mimetype": "text/x-python",
   "name": "python",
   "nbconvert_exporter": "python",
   "pygments_lexer": "ipython3",
   "version": "3.8.10"
  }
 },
 "nbformat": 4,
 "nbformat_minor": 1
}
