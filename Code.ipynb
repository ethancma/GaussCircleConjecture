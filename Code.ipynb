{
  "cells": [
    {
      "cell_type": "markdown",
      "metadata": {
        "id": "view-in-github",
        "colab_type": "text"
      },
      "source": [
        "<a href=\"https://colab.research.google.com/github/ethancma/GaussCircleConjecture/blob/main/Code.ipynb\" target=\"_parent\"><img src=\"https://colab.research.google.com/assets/colab-badge.svg\" alt=\"Open In Colab\"/></a>"
      ]
    },
    {
      "cell_type": "markdown",
      "metadata": {
        "id": "zH6g8tkTZtk8"
      },
      "source": [
        " **Exploration 1 - Gauss's Circle Conjecture**\n",
        " "
      ]
    },
    {
      "cell_type": "code",
      "execution_count": 6,
      "metadata": {
        "id": "u56wWWmtg-di"
      },
      "outputs": [],
      "source": [
        "import math\n",
        "import numpy as np\n",
        "from numpy.polynomial import polynomial as P\n",
        "import matplotlib.pyplot as plt"
      ]
    },
    {
      "cell_type": "markdown",
      "metadata": {
        "id": "ReEnZcTShFGL"
      },
      "source": [
        "We begin with a no optimizations brute force approach that simply parses each $x$ value in the set $\\{0, 1,...,r\\}$, and each $y$ value in the set $\\{1, ..., r\\}$, and checks if $x^2+y^2 < r^2$ and if so adds it as a lattice point. However this only counts the lattice points in one quadrant of the circle, so we multiply the final count by 4, and finally we add 1 for the point $(0, 0)$ which is skipped."
      ]
    },
    {
      "cell_type": "code",
      "execution_count": 104,
      "metadata": {
        "colab": {
          "base_uri": "https://localhost:8080/"
        },
        "id": "EronezGAigbg",
        "outputId": "d039d81f-72c8-4e65-d314-d074800faa06"
      },
      "outputs": [
        {
          "output_type": "stream",
          "name": "stdout",
          "text": [
            "1\n",
            "5\n",
            "13\n",
            "29\n"
          ]
        }
      ],
      "source": [
        "def bf_L(r):\n",
        "    lattice_points = 0\n",
        "    for i in range(r + 1):\n",
        "        for j in range(1, r + 1):\n",
        "            if i**2 + j**2 <= r**2:\n",
        "                lattice_points += 1\n",
        "    return 4 * lattice_points + 1\n",
        "\n",
        "print(bf_L(0))\n",
        "print(bf_L(1))\n",
        "print(bf_L(2))\n",
        "print(bf_L(3))"
      ]
    },
    {
      "cell_type": "markdown",
      "metadata": {
        "id": "aANIaALzNovs"
      },
      "source": [
        "We now define an area function A, a lattice counting function L, and an error function E."
      ]
    },
    {
      "cell_type": "code",
      "execution_count": 20,
      "metadata": {
        "id": "LcnkZiZLann3"
      },
      "outputs": [],
      "source": [
        "import math\n",
        "\n",
        "def A(r):\n",
        "  return r**2 * math.pi\n",
        "\n",
        "\n",
        "def L(r):\n",
        "  i = 1\n",
        "  ans = 0\n",
        "  while i <= r:\n",
        "    ans += math.floor(math.sqrt(r**2 - i**2)) + 1\n",
        "    i += 1\n",
        "  return 1 + ans * 4\n",
        "\n",
        "\n",
        "def E(r):\n",
        "  return A(r) - L(r)\n"
      ]
    },
    {
      "cell_type": "markdown",
      "metadata": {
        "id": "Xn-NaOSOJ5SZ"
      },
      "source": [
        "To get a sense of how the error grows with R, we will perform a power regression on a list of values from the function E."
      ]
    },
    {
      "cell_type": "code",
      "execution_count": 133,
      "metadata": {
        "colab": {
          "base_uri": "https://localhost:8080/"
        },
        "id": "dgbwWxPRJ5SZ",
        "outputId": "676d68cb-f7ae-4e08-d2a3-c15354e198dc"
      },
      "outputs": [
        {
          "output_type": "stream",
          "name": "stdout",
          "text": [
            "Creating list of errors, in log space so we can do a linear regression\n",
            "Finished\n",
            "\n",
            "Result...\n",
            " [-0.2399114   0.67853623]\n",
            "\n",
            "Result...\n",
            " [array([359.13952698]), 2, array([1.41013425, 0.10733775]), 2.1760371282653068e-13]\n"
          ]
        }
      ],
      "source": [
        "x = []\n",
        "y = []\n",
        "\n",
        "\n",
        "print(\"Creating list of errors, in log space so we can do a linear regression\")\n",
        "for i in range(1, 1000):\n",
        "  error = E(i)\n",
        "  if error > 0:\n",
        "    x.append(math.log(i))\n",
        "    y.append(math.log(E(i)))\n",
        "print(\"Finished\")\n",
        "\n",
        "\n",
        "\n",
        "c, stats = P.polyfit(x, y, 1, full=True)\n",
        "print(\"\\nResult...\\n\", c)\n",
        "print(\"\\nResult...\\n\", stats)"
      ]
    },
    {
      "cell_type": "markdown",
      "metadata": {
        "id": "z4_ChZEqJ5SZ"
      },
      "source": [
        "Plotting graphs so we can get a better look"
      ]
    },
    {
      "cell_type": "code",
      "execution_count": 134,
      "metadata": {
        "colab": {
          "base_uri": "https://localhost:8080/",
          "height": 265
        },
        "id": "gnWqi1jPJ5Sa",
        "outputId": "62186826-79c2-41de-c286-a5e28dc89c3e"
      },
      "outputs": [
        {
          "output_type": "display_data",
          "data": {
            "text/plain": [
              "<Figure size 432x288 with 1 Axes>"
            ],
            "image/png": "[encoded data removed]"
          },
          "metadata": {
            "needs_background": "light"
          }
        }
      ],
      "source": [
        "import matplotlib.pyplot as plt\n",
        "\n",
        "\n",
        "x = []\n",
        "error_y = []\n",
        "r_2_3 = []\n",
        "\n",
        "for i in range(1000):\n",
        "    x.append(i)\n",
        "    error_y.append(E(i))\n",
        "    r_2_3.append(i**(2/3))\n",
        "\n",
        "fig, ax = plt.subplots()\n",
        "ax.plot(x, error_y)\n",
        "ax.plot(x, r_2_3)\n",
        "plt.show()"
      ]
    },
    {
      "cell_type": "markdown",
      "metadata": {
        "id": "XMUriNY8LrbQ"
      },
      "source": [
        "An obvious generalization of this problem that merits inspection is to see how this idea extends to shapes beyond circles. Furthermore, we will see how if this idea extends to volume as opposed to area. "
      ]
    },
    {
      "cell_type": "markdown",
      "source": [
        "**Area of an ellipse**"
      ],
      "metadata": {
        "id": "jDvT5sa4-gJW"
      }
    },
    {
      "cell_type": "code",
      "source": [
        "def ellipse_A(a,b):\n",
        "  return math.pi*a*b"
      ],
      "metadata": {
        "id": "jGzLqhjK-psW"
      },
      "execution_count": null,
      "outputs": []
    },
    {
      "cell_type": "markdown",
      "source": [
        "**Lattice points of an ellipse**"
      ],
      "metadata": {
        "id": "ABP8ihI--ueW"
      }
    },
    {
      "cell_type": "code",
      "source": [
        "def equation_satisfied(x, y, a, b):\n",
        "  return (x**2)/(a**2)+(y**2)/(b**2) <= 1\n",
        "\n",
        "def ellipse_L(a, b):\n",
        "  quad_one_points = 0\n",
        "  i = 1\n",
        "  while i < abs(a)+1:\n",
        "    j=1\n",
        "    while j < abs(b)+1:\n",
        "      if equation_satisfied(i, j, a, b):\n",
        "        quad_one_points += 1\n",
        "      j = j + 1\n",
        "    i = i + 1\n",
        "  axis_points = (a+b)*2 + 1\n",
        "  return quad_one_points*4 + axis_points"
      ],
      "metadata": {
        "id": "WY1rICpM-yQB"
      },
      "execution_count": null,
      "outputs": []
    },
    {
      "cell_type": "markdown",
      "source": [
        "**Volume of a sphere**"
      ],
      "metadata": {
        "id": "mDvm3H2N_NNU"
      }
    },
    {
      "cell_type": "code",
      "execution_count": 149,
      "metadata": {
        "id": "TbDNH_i-Mg_J"
      },
      "outputs": [],
      "source": [
        "def volume_sphere(r):\n",
        "    return (4 / 3) * math.pi * r**3\n",
        "\n",
        "def bf_lattice_sphere(r):\n",
        "    lattice_points = 0\n",
        "    for i in range(-r,r + 1):\n",
        "        for j in range(-r,r + 1):\n",
        "            for k in range(-r, r + 1):\n",
        "                if i**2 + j**2 + k**2 <= r**2:\n",
        "                    lattice_points += 1\n",
        "    return lattice_points\n",
        "\n",
        "def faster_bf_lattice_sphere(r):\n",
        "  nonzero_lattice_points = 0\n",
        "  for i in range(1,r + 1):\n",
        "        for j in range(1,r + 1):\n",
        "            for k in range(1,r + 1):\n",
        "                if i**2 + j**2 + k**2 <= r**2:\n",
        "                    nonzero_lattice_points += 1\n",
        "  nonzero_lattice_points *= 8 # points sitting on 0 axis interior to sphere\n",
        "  axis_circles = 3 * ( bf_L(r) - 1) # points sitting on 1 or 2 axis interior to the sphere\n",
        "  overcounted_axis_lines = 6 * r # points sitting on 2 axis interior to sphere\n",
        "  origin = 1 # points sitting on all 3 axis interior to sphere\n",
        "  return nonzero_lattice_points + axis_circles - overcounted_axis_lines + origin\n"
      ]
    },
    {
      "cell_type": "markdown",
      "metadata": {
        "id": "JFL41u5WRu2F"
      },
      "source": [
        "We take a similar approach as before, but now we have 3 different dimensions to loop over. We only deal with strictly positive lattice points, and by symmetry uncounted lattice points can be found by switching the sign on points i,j,k. This gives us 2^3 = 8 different unique lattice points for given positive lattice point (i,j,k). We begin with a brute force approach as before."
      ]
    },
    {
      "cell_type": "markdown",
      "metadata": {
        "id": "V--Vc-RiVOj3"
      },
      "source": [
        "This method is quite slow, so we will try to create a more efficent version."
      ]
    },
    {
      "cell_type": "code",
      "execution_count": 123,
      "metadata": {
        "id": "A3QBkUCAZVu6"
      },
      "outputs": [],
      "source": [
        "def lattice_sphere(r):\n",
        "  nonzero_lattice_points = 0\n",
        "  for i in range(1,r + 1):\n",
        "        for j in range(1,math.floor(math.sqrt(r**2 - i**2)) + 1):\n",
        "          nonzero_lattice_points += math.floor(math.sqrt(r**2 - i**2 - j**2))\n",
        "  nonzero_lattice_points *= 8 # points sitting on 0 axis interior to sphere\n",
        "  axis_circles = 3 * ( bf_L(r) - 1) # points sitting on 1 or 2 axis interior to the sphere\n",
        "  overcounted_axis_lines = 6 * r # points sitting on 2 axis interior to sphere\n",
        "  origin = 1 # points sitting on all 3 axis interior to sphere\n",
        "  return nonzero_lattice_points + axis_circles - overcounted_axis_lines + origin"
      ]
    },
    {
      "cell_type": "markdown",
      "metadata": {
        "id": "QAoBYyzRZnwT"
      },
      "source": [
        "This implementation is much faster, cutting down on the upper bound on the 2nd loop and getting rid of the third loop completely. We will now populate an array with error values from radius 1 through 1000."
      ]
    },
    {
      "cell_type": "code",
      "source": [
        "def sphere_error(r):\n",
        "    return volume_sphere(r)  - lattice_sphere(r)\n",
        "\n",
        "errors = []\n",
        "errors.append(0)\n",
        "for i in range(1, 1000):\n",
        "  errors.append(sphere_error(i))"
      ],
      "metadata": {
        "id": "GXYvyEUpFNn4"
      },
      "execution_count": 144,
      "outputs": []
    },
    {
      "cell_type": "code",
      "execution_count": 157,
      "metadata": {
        "colab": {
          "base_uri": "https://localhost:8080/"
        },
        "id": "mcLvNoAhVXQf",
        "outputId": "ff16c199-d797-4736-a630-07e4961a5be8"
      },
      "outputs": [
        {
          "output_type": "stream",
          "name": "stdout",
          "text": [
            "Creating list of errors, in log space so we can do a linear regression\n",
            "Finished\n",
            "\n",
            "Result...\n",
            " [0.40944801 1.25598148]\n",
            "\n",
            "Result...\n",
            " [array([647.33484186]), 2, array([1.41005146, 0.10841994]), 2.0228263508670352e-13]\n"
          ]
        }
      ],
      "source": [
        "x = []\n",
        "y = []\n",
        "\n",
        "\n",
        "print(\"Creating list of errors, in log space so we can do a linear regression\")\n",
        "for i in range(1, 1000):\n",
        "  error = errors[i]\n",
        "  if error > 0:\n",
        "    x.append(math.log(i))\n",
        "    y.append(math.log(error))\n",
        "print(\"Finished\")\n",
        "\n",
        "\n",
        "\n",
        "c, stats = P.polyfit(x, y, 1, full=True)\n",
        "print(\"\\nResult...\\n\", c)\n",
        "print(\"\\nResult...\\n\", stats)"
      ]
    },
    {
      "cell_type": "markdown",
      "source": [
        "We have all the information that we need know to create a linear regression for the error term."
      ],
      "metadata": {
        "id": "M56lC58HJ57h"
      }
    },
    {
      "cell_type": "code",
      "execution_count": 158,
      "metadata": {
        "colab": {
          "base_uri": "https://localhost:8080/",
          "height": 265
        },
        "id": "KBpy9wl4eI9e",
        "outputId": "f7eefaa3-061d-4fcf-bca3-968710dc09d0"
      },
      "outputs": [
        {
          "output_type": "display_data",
          "data": {
            "text/plain": [
              "<Figure size 432x288 with 1 Axes>"
            ],
            "image/png": "[encoded data removed]"
          },
          "metadata": {
            "needs_background": "light"
          }
        }
      ],
      "source": [
        "import matplotlib.pyplot as plt\n",
        "\n",
        "\n",
        "x = []\n",
        "error_y = []\n",
        "r_2_3 = []\n",
        "\n",
        "for i in range(1000):\n",
        "    x.append(i)\n",
        "    error_y.append(errors[i])\n",
        "    r_2_3.append(i**(5/4))\n",
        "\n",
        "fig, ax = plt.subplots()\n",
        "ax.plot(x, error_y)\n",
        "ax.plot(x, r_2_3)\n",
        "plt.show()"
      ]
    },
    {
      "cell_type": "markdown",
      "metadata": {
        "id": "mYB_PL3KVfwc"
      },
      "source": [
        "As you can see in the graph above, and by noting that growth of the error term is proportional to r^(5/4), the error term is only getting larger as the radius increases. With the circle lattice error term, the error was growing at a slower rate, proportional to r^(2/3). This difference in the error terms growth rate is very interesting, and is most likely the result of how quickly volume accumulates versus area."
      ]
    },
    {
      "cell_type": "markdown",
      "source": [
        "An interesting result due to D.R. Heath-Brown (https://www.degruyter.com/document/doi/10.1515/9783110285581.883/html?lang=en) establishes a lower bound on the error rate as being proportional to r^(1.3125). Using this number with our collected data gives us the following graphs:"
      ],
      "metadata": {
        "id": "RcYk2OjnMFvN"
      }
    },
    {
      "cell_type": "code",
      "source": [
        "import matplotlib.pyplot as plt\n",
        "\n",
        "\n",
        "x = []\n",
        "error_y = []\n",
        "r_2_3 = []\n",
        "heath = []\n",
        "for i in range(1000):\n",
        "    x.append(i)\n",
        "    error_y.append(errors[i])\n",
        "    r_2_3.append( i**(5/4))\n",
        "    heath.append(i**(1.3125))\n",
        "\n",
        "fig, ax = plt.subplots()\n",
        "ax.plot(x, error_y)\n",
        "ax.plot(x, r_2_3)\n",
        "ax.plot(x, heath)\n",
        "plt.show()"
      ],
      "metadata": {
        "id": "CN0MyLylMgEL",
        "outputId": "be98745e-e65e-4253-b204-6c0d725de641",
        "colab": {
          "base_uri": "https://localhost:8080/",
          "height": 265
        }
      },
      "execution_count": 159,
      "outputs": [
        {
          "output_type": "display_data",
          "data": {
            "text/plain": [
              "<Figure size 432x288 with 1 Axes>"
            ],
            "image/png": "[encoded data removed]"
          },
          "metadata": {
            "needs_background": "light"
          }
        }
      ]
    }
  ],
  "metadata": {
    "colab": {
      "provenance": [],
      "include_colab_link": true
    },
    "kernelspec": {
      "display_name": "Python 3",
      "language": "python",
      "name": "python3"
    },
    "language_info": {
      "codemirror_mode": {
        "name": "ipython",
        "version": 3
      },
      "file_extension": ".py",
      "mimetype": "text/x-python",
      "name": "python",
      "nbconvert_exporter": "python",
      "pygments_lexer": "ipython3",
      "version": "3.8.10"
    }
  },
  "nbformat": 4,
  "nbformat_minor": 0
}