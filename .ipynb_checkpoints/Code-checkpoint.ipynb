{
 "cells": [
  {
   "cell_type": "markdown",
   "metadata": {
    "colab_type": "text",
    "id": "view-in-github"
   },
   "source": [
    "<a href=\"https://colab.research.google.com/github/ethancma/GaussCircleConjecture/blob/main/Code.ipynb\" target=\"_parent\"><img src=\"https://colab.research.google.com/assets/colab-badge.svg\" alt=\"Open In Colab\"/></a>"
   ]
  },
  {
   "cell_type": "markdown",
   "metadata": {
    "id": "zH6g8tkTZtk8"
   },
   "source": [
    " **Exploration 1 - Gauss's Circle Conjecture**\n",
    " "
   ]
  },
  {
   "cell_type": "code",
   "execution_count": 2,
   "metadata": {
    "id": "u56wWWmtg-di"
   },
   "outputs": [],
   "source": [
    "import math\n",
    "import numpy as np\n",
    "from numpy.polynomial import polynomial as P\n",
    "import matplotlib.pyplot as plt"
   ]
  },
  {
   "cell_type": "markdown",
   "metadata": {
    "id": "ReEnZcTShFGL"
   },
   "source": [
    "We begin with a no optimizations brute force approach that simply parses each $x$ value in the set $\\{0, 1,...,r\\}$, and each $y$ value in the set $\\{1, ..., r\\}$, and checks if $x^2+y^2 < r^2$ and if so adds it as a lattice point. However this only counts the lattice points in one quadrant of the circle, so we multiply the final count by 4, and finally we add 1 for the point $(0, 0)$ which is skipped."
   ]
  },
  {
   "cell_type": "code",
   "execution_count": 6,
   "metadata": {
    "colab": {
     "base_uri": "https://localhost:8080/"
    },
    "id": "EronezGAigbg",
    "outputId": "d039d81f-72c8-4e65-d314-d074800faa06"
   },
   "outputs": [
    {
     "name": "stdout",
     "output_type": "stream",
     "text": [
      "1\n",
      "5\n",
      "13\n",
      "29\n"
     ]
    }
   ],
   "source": [
    "def bf_L(r):\n",
    "    lattice_points = 0\n",
    "    for i in range(r + 1):\n",
    "        for j in range(1, r + 1):\n",
    "            if i**2 + j**2 <= r**2:\n",
    "                lattice_points += 1\n",
    "    return 4 * lattice_points + 1\n",
    "\n",
    "print(bf_L(0))\n",
    "print(bf_L(1))\n",
    "print(bf_L(2))\n",
    "print(bf_L(3))"
   ]
  },
  {
   "cell_type": "markdown",
   "metadata": {
    "id": "aANIaALzNovs"
   },
   "source": [
    "This function is to slow for large values, so we created a faster version. This version only loops through each $x$ in the set $\\{1, 2,...,r\\}$ and adds up the number of lattice points $(x, y)$ for which $y >= 0$ and $x^2 + y^2 <= r^2$, which turns out to equal $\\lfloor\\sqrt{r^2 - x^2}\\rfloor + 1$. We add up all of these lattice points and then multiply the total by 4, and add one, for the same reason as above.\n",
    "We also created an area and error function. "
   ]
  },
  {
   "cell_type": "code",
   "execution_count": 5,
   "metadata": {
    "id": "LcnkZiZLann3"
   },
   "outputs": [],
   "source": [
    "import math\n",
    "\n",
    "def A(r):\n",
    "  return r**2 * math.pi\n",
    "\n",
    "\n",
    "def L(r):\n",
    "  i = 1\n",
    "  ans = 0\n",
    "  while i <= r:\n",
    "    ans += math.floor(math.sqrt(r**2 - i**2)) + 1\n",
    "    i += 1\n",
    "  return 1 + ans * 4\n",
    "\n",
    "\n",
    "def E(r):\n",
    "  return A(r) - L(r)\n"
   ]
  },
  {
   "cell_type": "markdown",
   "metadata": {
    "id": "Xn-NaOSOJ5SZ"
   },
   "source": [
    "To get a sense of how the error grows with R, we will perform a power regression on a list of values from the function E."
   ]
  },
  {
   "cell_type": "code",
   "execution_count": 7,
   "metadata": {
    "id": "yTXtDL2UgWx_"
   },
   "outputs": [],
   "source": [
    "errors = []\n",
    "errors.append(0)\n",
    "for i in range(1, 1000):\n",
    "  errors.append(E(i))"
   ]
  },
  {
   "cell_type": "code",
   "execution_count": 12,
   "metadata": {
    "colab": {
     "base_uri": "https://localhost:8080/"
    },
    "id": "dgbwWxPRJ5SZ",
    "outputId": "69558fe6-1df6-4cf5-a411-b1af42aa9a3d"
   },
   "outputs": [
    {
     "ename": "ModuleNotFoundError",
     "evalue": "No module named 'sklearn'",
     "output_type": "error",
     "traceback": [
      "\u001b[0;31m---------------------------------------------------------------------------\u001b[0m",
      "\u001b[0;31mModuleNotFoundError\u001b[0m                       Traceback (most recent call last)",
      "\u001b[0;32m<ipython-input-12-4f798ce35086>\u001b[0m in \u001b[0;36m<module>\u001b[0;34m\u001b[0m\n\u001b[0;32m----> 1\u001b[0;31m \u001b[0;32mfrom\u001b[0m \u001b[0msklearn\u001b[0m\u001b[0;34m.\u001b[0m\u001b[0mlinear_model\u001b[0m \u001b[0;32mimport\u001b[0m \u001b[0mLinearRegression\u001b[0m\u001b[0;34m\u001b[0m\u001b[0;34m\u001b[0m\u001b[0m\n\u001b[0m\u001b[1;32m      2\u001b[0m \u001b[0mx\u001b[0m \u001b[0;34m=\u001b[0m \u001b[0;34m[\u001b[0m\u001b[0;34m]\u001b[0m\u001b[0;34m\u001b[0m\u001b[0;34m\u001b[0m\u001b[0m\n\u001b[1;32m      3\u001b[0m \u001b[0my\u001b[0m \u001b[0;34m=\u001b[0m \u001b[0;34m[\u001b[0m\u001b[0;34m]\u001b[0m\u001b[0;34m\u001b[0m\u001b[0;34m\u001b[0m\u001b[0m\n\u001b[1;32m      4\u001b[0m \u001b[0mprint\u001b[0m\u001b[0;34m(\u001b[0m\u001b[0;34m\"Creating list of errors, in log space so we can do a linear regression\"\u001b[0m\u001b[0;34m)\u001b[0m\u001b[0;34m\u001b[0m\u001b[0;34m\u001b[0m\u001b[0m\n\u001b[1;32m      5\u001b[0m \u001b[0;32mfor\u001b[0m \u001b[0mi\u001b[0m \u001b[0;32min\u001b[0m \u001b[0mrange\u001b[0m\u001b[0;34m(\u001b[0m\u001b[0;36m1\u001b[0m\u001b[0;34m,\u001b[0m \u001b[0;36m1000\u001b[0m\u001b[0;34m)\u001b[0m\u001b[0;34m:\u001b[0m\u001b[0;34m\u001b[0m\u001b[0;34m\u001b[0m\u001b[0m\n",
      "\u001b[0;31mModuleNotFoundError\u001b[0m: No module named 'sklearn'"
     ]
    }
   ],
   "source": [
    "from sklearn.linear_model import LinearRegression\n",
    "x = []\n",
    "y = []\n",
    "print(\"Creating list of errors, in log space so we can do a linear regression\")\n",
    "for i in range(1, 1000):\n",
    "  error = errors[i]\n",
    "  if error > 0:\n",
    "    x.append([math.log(i)])\n",
    "    y.append(math.log(error))\n",
    "print(\"Finished\")\n",
    "reg = LinearRegression(fit_intercept = False).fit(x,y)\n",
    "reg.coef_"
   ]
  },
  {
   "cell_type": "markdown",
   "metadata": {
    "id": "z4_ChZEqJ5SZ"
   },
   "source": [
    "Plotting graphs so we can get a better look"
   ]
  },
  {
   "cell_type": "code",
   "execution_count": 11,
   "metadata": {
    "colab": {
     "base_uri": "https://localhost:8080/",
     "height": 265
    },
    "id": "gnWqi1jPJ5Sa",
    "outputId": "2fe5e235-e9d3-4a30-c6a2-829922017d68"
   },
   "outputs": [
    {
     "data": {
      "image/png": "[encoded data removed]",
      "text/plain": [
       "<Figure size 432x288 with 1 Axes>"
      ]
     },
     "metadata": {
      "needs_background": "light"
     },
     "output_type": "display_data"
    }
   ],
   "source": [
    "import matplotlib.pyplot as plt\n",
    "\n",
    "\n",
    "x = []\n",
    "error_y = []\n",
    "model = []\n",
    "\n",
    "for i in range(1000):\n",
    "    x.append(i)\n",
    "    error_y.append(errors[i])\n",
    "    model.append(i**(.63913903))\n",
    "\n",
    "fig, ax = plt.subplots()\n",
    "ax.plot(x, error_y)\n",
    "ax.plot(x, model)\n",
    "plt.show()"
   ]
  },
  {
   "cell_type": "markdown",
   "metadata": {
    "id": "XMUriNY8LrbQ"
   },
   "source": [
    "An obvious generalization of this problem that merits inspection is to see how this idea extends to shapes beyond circles. Furthermore, we will see how if this idea extends to volume as opposed to area. "
   ]
  },
  {
   "cell_type": "markdown",
   "metadata": {
    "id": "jDvT5sa4-gJW"
   },
   "source": [
    "**Area of an ellipse**"
   ]
  },
  {
   "cell_type": "code",
   "execution_count": 13,
   "metadata": {
    "id": "jGzLqhjK-psW"
   },
   "outputs": [],
   "source": [
    "def ellipse_A(a,b):\n",
    "  return math.pi*a*b"
   ]
  },
  {
   "cell_type": "markdown",
   "metadata": {
    "id": "ABP8ihI--ueW"
   },
   "source": [
    "**Lattice points of an ellipse**"
   ]
  },
  {
   "cell_type": "code",
   "execution_count": 14,
   "metadata": {
    "id": "WY1rICpM-yQB"
   },
   "outputs": [],
   "source": [
    "def equation_satisfied(x, y, a, b):\n",
    "  return (x**2)/(a**2)+(y**2)/(b**2) <= 1\n",
    "\n",
    "def ellipse_L(a, b):\n",
    "  quad_one_points = 0\n",
    "  i = 1\n",
    "  while i < abs(a)+1:\n",
    "    j=1\n",
    "    while j < abs(b)+1:\n",
    "      if equation_satisfied(i, j, a, b):\n",
    "        quad_one_points += 1\n",
    "      j = j + 1\n",
    "    i = i + 1\n",
    "  axis_points = (a+b)*2 + 1\n",
    "  return quad_one_points*4 + axis_points"
   ]
  },
  {
   "cell_type": "markdown",
   "metadata": {
    "id": "mDvm3H2N_NNU"
   },
   "source": [
    "**Volume of a sphere**"
   ]
  },
  {
   "cell_type": "code",
   "execution_count": 17,
   "metadata": {
    "id": "TbDNH_i-Mg_J"
   },
   "outputs": [],
   "source": [
    "def volume_sphere(r):\n",
    "    return (4 / 3) * math.pi * r**3\n",
    "\n",
    "def bf_lattice_sphere(r):\n",
    "    lattice_points = 0\n",
    "    for i in range(-r,r + 1):\n",
    "        for j in range(-r,r + 1):\n",
    "            for k in range(-r, r + 1):\n",
    "                if i**2 + j**2 + k**2 <= r**2:\n",
    "                    lattice_points += 1\n",
    "    return lattice_points\n",
    "\n",
    "def faster_bf_lattice_sphere(r):\n",
    "  nonzero_lattice_points = 0\n",
    "  for i in range(1,r + 1):\n",
    "        for j in range(1,r + 1):\n",
    "            for k in range(1,r + 1):\n",
    "                if i**2 + j**2 + k**2 <= r**2:\n",
    "                    nonzero_lattice_points += 1\n",
    "  nonzero_lattice_points *= 8 # points sitting on 0 axis interior to sphere\n",
    "  axis_circles = 3 * ( bf_L(r) - 1) # points sitting on 1 or 2 axis interior to the sphere\n",
    "  overcounted_axis_lines = 6 * r # points sitting on 2 axis interior to sphere\n",
    "  origin = 1 # points sitting on all 3 axis interior to sphere\n",
    "  return nonzero_lattice_points + axis_circles - overcounted_axis_lines + origin\n"
   ]
  },
  {
   "cell_type": "markdown",
   "metadata": {
    "id": "JFL41u5WRu2F"
   },
   "source": [
    "We take a similar approach as before, but now we have 3 different dimensions to loop over. We only deal with strictly positive lattice points, and by symmetry uncounted lattice points can be found by switching the sign on points i,j,k. This gives us 2^3 = 8 different unique lattice points for given positive lattice point (i,j,k). We begin with a brute force approach as before."
   ]
  },
  {
   "cell_type": "markdown",
   "metadata": {
    "id": "V--Vc-RiVOj3"
   },
   "source": [
    "This method is quite slow, so we will try to create a more efficent version."
   ]
  },
  {
   "cell_type": "code",
   "execution_count": 18,
   "metadata": {
    "id": "A3QBkUCAZVu6"
   },
   "outputs": [],
   "source": [
    "def lattice_sphere(r):\n",
    "  nonzero_lattice_points = 0\n",
    "  for i in range(1,r + 1):\n",
    "        for j in range(1,math.floor(math.sqrt(r**2 - i**2)) + 1):\n",
    "          nonzero_lattice_points += math.floor(math.sqrt(r**2 - i**2 - j**2))\n",
    "  nonzero_lattice_points *= 8 # points sitting on 0 axis interior to sphere\n",
    "  axis_circles = 3 * ( L(r) - 1) # points sitting on 1 or 2 axis interior to the sphere\n",
    "  overcounted_axis_lines = 6 * r # points sitting on 2 axis interior to sphere\n",
    "  origin = 1 # points sitting on all 3 axis interior to sphere\n",
    "  return nonzero_lattice_points + axis_circles - overcounted_axis_lines + origin"
   ]
  },
  {
   "cell_type": "markdown",
   "metadata": {
    "id": "QAoBYyzRZnwT"
   },
   "source": [
    "This implementation is much faster, cutting down on the upper bound on the 2nd loop and getting rid of the third loop completely. We will now populate an array with error values from radius 1 through 1000."
   ]
  },
  {
   "cell_type": "code",
   "execution_count": null,
   "metadata": {
    "id": "GXYvyEUpFNn4"
   },
   "outputs": [],
   "source": [
    "def sphere_error(r):\n",
    "    return volume_sphere(r)  - lattice_sphere(r)\n",
    "\n",
    "errors_sphere = []\n",
    "errors_sphere.append(0)\n",
    "for i in range(1, 1000):\n",
    "  errors_sphere.append(sphere_error(i))"
   ]
  },
  {
   "cell_type": "code",
   "execution_count": 330,
   "metadata": {
    "colab": {
     "base_uri": "https://localhost:8080/"
    },
    "id": "mcLvNoAhVXQf",
    "outputId": "d8d3ae69-f234-45d1-b9d0-0e246f660601"
   },
   "outputs": [
    {
     "name": "stdout",
     "output_type": "stream",
     "text": [
      "Creating list of errors, in log space so we can do a linear regression\n",
      "Finished\n"
     ]
    },
    {
     "data": {
      "text/plain": [
       "array([1.32307423])"
      ]
     },
     "execution_count": 330,
     "metadata": {},
     "output_type": "execute_result"
    }
   ],
   "source": [
    "from sklearn.linear_model import LinearRegression\n",
    "x = []\n",
    "y = []\n",
    "print(\"Creating list of errors, in log space so we can do a linear regression\")\n",
    "for i in range(1, 1000):\n",
    "  error = errors_sphere[i]\n",
    "  if error > 0:\n",
    "    x.append([math.log(i)])\n",
    "    y.append(math.log(error))\n",
    "print(\"Finished\")\n",
    "\n",
    "reg = LinearRegression(fit_intercept=False).fit(x,y)\n",
    "reg.coef_\n"
   ]
  },
  {
   "cell_type": "markdown",
   "metadata": {
    "id": "M56lC58HJ57h"
   },
   "source": [
    "We have all the information that we need now to create a linear regression for the error term."
   ]
  },
  {
   "cell_type": "code",
   "execution_count": null,
   "metadata": {
    "colab": {
     "base_uri": "https://localhost:8080/",
     "height": 265
    },
    "id": "KBpy9wl4eI9e",
    "outputId": "a39a032c-549f-4ccc-ce7f-dfe28ca2fd51"
   },
   "outputs": [],
   "source": [
    "import matplotlib.pyplot as plt\n",
    "\n",
    "\n",
    "x = []\n",
    "error_y = []\n",
    "model = []\n",
    "\n",
    "for i in range(1000):\n",
    "    x.append(i)\n",
    "    error_y.append(errors_sphere[i])\n",
    "    model.append(i**1.32307423)\n",
    "fig, ax = plt.subplots()\n",
    "ax.plot(x, error_y)\n",
    "ax.plot(x, model)\n",
    "plt.show()"
   ]
  },
  {
   "cell_type": "markdown",
   "metadata": {
    "id": "mYB_PL3KVfwc"
   },
   "source": [
    "As you can see in the graph above, and by noting that growth of the error term is proportional to r^(1.32), the error term is only getting larger as the radius increases. With the circle lattice error term, the error was growing at a slower rate, proportional to r^(2/3). This difference in the error terms growth rate is very interesting, and is most likely the result of how quickly volume accumulates versus area."
   ]
  },
  {
   "cell_type": "markdown",
   "metadata": {
    "id": "RcYk2OjnMFvN"
   },
   "source": [
    "An interesting result due to D.R. Heath-Brown (https://www.degruyter.com/document/doi/10.1515/9783110285581.883/html?lang=en) establishes a lower bound on the error rate as being proportional to r^(1.3125). This number is very close to the value we calculated above. To illustrate this, examine the graph of both error rates below."
   ]
  },
  {
   "cell_type": "code",
   "execution_count": 335,
   "metadata": {
    "colab": {
     "base_uri": "https://localhost:8080/",
     "height": 265
    },
    "id": "CN0MyLylMgEL",
    "outputId": "53f76033-1da3-45b7-ca84-4b1f098f2af2"
   },
   "outputs": [
    {
     "data": {
      "image/png": "[encoded data removed]",
      "text/plain": [
       "<Figure size 432x288 with 1 Axes>"
      ]
     },
     "metadata": {
      "needs_background": "light"
     },
     "output_type": "display_data"
    }
   ],
   "source": [
    "import matplotlib.pyplot as plt\n",
    "\n",
    "\n",
    "x = []\n",
    "error_y = []\n",
    "model = []\n",
    "heath = []\n",
    "for i in range(1000):\n",
    "    x.append(i)\n",
    "    error_y.append(errors_sphere[i])\n",
    "    model.append( i**(1.32307))\n",
    "    heath.append(i**(1.3125))\n",
    "\n",
    "fig, ax = plt.subplots()\n",
    "ax.plot(x, error_y)\n",
    "ax.plot(x, model)\n",
    "ax.plot(x, heath)\n",
    "plt.show()"
   ]
  }
 ],
 "metadata": {
  "colab": {
   "include_colab_link": true,
   "provenance": []
  },
  "kernelspec": {
   "display_name": "Python 3",
   "language": "python",
   "name": "python3"
  },
  "language_info": {
   "codemirror_mode": {
    "name": "ipython",
    "version": 3
   },
   "file_extension": ".py",
   "mimetype": "text/x-python",
   "name": "python",
   "nbconvert_exporter": "python",
   "pygments_lexer": "ipython3",
   "version": "3.8.10"
  }
 },
 "nbformat": 4,
 "nbformat_minor": 1
}
